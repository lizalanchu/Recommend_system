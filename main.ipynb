{
 "cells": [
  {
   "cell_type": "code",
   "execution_count": 1,
   "metadata": {},
   "outputs": [],
   "source": [
    "import pandas as pd\n",
    "import pickle\n",
    "from surprise import Dataset, Reader\n",
    "from surprise.model_selection import train_test_split\n",
    "from surprise.prediction_algorithms import KNNBaseline\n",
    "from gensim.models.doc2vec import Doc2Vec, TaggedDocument\n",
    "from gensim.utils import simple_preprocess"
   ]
  },
  {
   "cell_type": "code",
   "execution_count": 2,
   "metadata": {},
   "outputs": [],
   "source": [
    "movies = pd.read_csv('movies.csv')\n",
    "movies.fillna('', inplace=True)\n",
    "ratings = pd.read_csv('ratings.csv')"
   ]
  },
  {
   "cell_type": "markdown",
   "metadata": {},
   "source": [
    "# Коллаборативная фильтрация"
   ]
  },
  {
   "cell_type": "code",
   "execution_count": 3,
   "metadata": {},
   "outputs": [],
   "source": [
    "ratings = ratings[ratings['userId'] <= 15000]"
   ]
  },
  {
   "cell_type": "code",
   "execution_count": 4,
   "metadata": {},
   "outputs": [],
   "source": [
    "reader = Reader(rating_scale=(1, 5))\n",
    "data = Dataset.load_from_df(ratings[['userId', 'movieId', 'rating']], reader)\n",
    "trainset, testset = train_test_split(data, test_size=0.2, random_state=42)"
   ]
  },
  {
   "cell_type": "code",
   "execution_count": 5,
   "metadata": {},
   "outputs": [
    {
     "name": "stdout",
     "output_type": "stream",
     "text": [
      "Estimating biases using als...\n",
      "Computing the pearson_baseline similarity matrix...\n",
      "Done computing similarity matrix.\n"
     ]
    },
    {
     "data": {
      "text/plain": [
       "<surprise.prediction_algorithms.knns.KNNBaseline at 0x1adc50421d0>"
      ]
     },
     "execution_count": 5,
     "metadata": {},
     "output_type": "execute_result"
    }
   ],
   "source": [
    "sim_options = {'name': 'pearson_baseline', 'user_based': True}\n",
    "model = KNNBaseline(sim_options=sim_options)\n",
    "model.fit(trainset)\n"
   ]
  },
  {
   "cell_type": "code",
   "execution_count": 6,
   "metadata": {},
   "outputs": [],
   "source": [
    "filename = 'model.pkl' \n",
    "pickle.dump(model, open(filename, 'wb'))"
   ]
  },
  {
   "cell_type": "code",
   "execution_count": null,
   "metadata": {},
   "outputs": [],
   "source": []
  },
  {
   "cell_type": "code",
   "execution_count": 6,
   "metadata": {},
   "outputs": [],
   "source": [
    "def CFUserBased (user_id, n = 10):\n",
    "    # находим фильмы которые смотрел пользователь\n",
    "    watched_movies = set(ratings[ratings['userId'] == user_id]['movieId'])\n",
    "    # находим все фильмы\n",
    "    all_movies = set(ratings['movieId'])\n",
    "    # находим не просмотренные фильмы\n",
    "    unwatched_movies = all_movies - watched_movies\n",
    "    predictions = []\n",
    "    # проходимся по каждому не просмотренному фильму \n",
    "    for movie_id in unwatched_movies:\n",
    "        predict = model.predict(user_id,movie_id).est\n",
    "        predictions.append((movie_id, predict))\n",
    "    predictions = sorted(predictions, key= lambda x: x[1], reverse=True)\n",
    "    movies_title = []\n",
    "    for movie_id, _ in predictions[:n]:\n",
    "        title = movies[movies['id'] == movie_id]['title'].iloc[0]\n",
    "        if title not in movies_title:\n",
    "            movies_title.append(title)\n",
    "    return movies_title\n"
   ]
  },
  {
   "cell_type": "code",
   "execution_count": 7,
   "metadata": {},
   "outputs": [
    {
     "name": "stdout",
     "output_type": "stream",
     "text": [
      "['Unforgiven', 'Unbelievable Adventures of Italians in Russia', 'Stalag 17', 'Date and Switch', 'The Color of Pomegranates', 'Pathfinder', 'Babysitter Wanted', 'Drowning by Numbers', 'White of the Eye', 'Piggy']\n"
     ]
    }
   ],
   "source": [
    "C = CFUserBased(1)\n",
    "print(C)"
   ]
  },
  {
   "cell_type": "markdown",
   "metadata": {},
   "source": [
    "# Фильтрация на основе контента "
   ]
  },
  {
   "cell_type": "code",
   "execution_count": 7,
   "metadata": {},
   "outputs": [],
   "source": [
    "movies['text'] = movies['cast'] + ' ' + movies['crew'] + ' ' + movies['genres'] + ' ' + movies['overview'] + ' ' + movies['production_countries'] + ' ' + str(movies['release_date'])\n",
    "documents = [TaggedDocument(simple_preprocess(row['text']), [index]) for index, row in movies.iterrows()]\n",
    "model1 = Doc2Vec(documents, vector_size=100, window=5, min_count=1, workers=4)"
   ]
  },
  {
   "cell_type": "code",
   "execution_count": 8,
   "metadata": {},
   "outputs": [],
   "source": [
    "filename = 'model1.pkl' \n",
    "pickle.dump(model1, open(filename, 'wb'))"
   ]
  },
  {
   "cell_type": "code",
   "execution_count": 20,
   "metadata": {},
   "outputs": [],
   "source": [
    "def ContentFiltering (user_id):\n",
    "    user_watched_movies = ratings[ratings['userId'] == user_id]\n",
    "    #выбираем те, у которых рейтинг больше 2.5\n",
    "    user_watched_movies = user_watched_movies[user_watched_movies['rating'] > 2.5]\n",
    "    #сортируем по убыванию\n",
    "    user_watched_movies = user_watched_movies.sort_values(by='rating', ascending=False)\n",
    "    #айдишник полученных фильмов\n",
    "    watched_movies_ids = user_watched_movies['movieId'].to_list()\n",
    "    recommended_movies = []\n",
    "    for movie in watched_movies_ids:\n",
    "        #получаем номер строки для соответсвующего айдишника\n",
    "        movie_index =  movies[movies['id'] == movie].index.tolist()[0]\n",
    "        # tag_of_trained_document - тег документа, который участвовал в обучении\n",
    "        vector = model1.docvecs[movie_index]\n",
    "        similar_movies = model1.docvecs.most_similar([vector], topn=5)\n",
    "        similar_movie_ids = [sim[0] for sim in similar_movies]\n",
    "        for i in similar_movie_ids:\n",
    "            #обратно находим айдишник фильма\n",
    "            rec_movie_id = movies.iloc[i]['id']\n",
    "            if rec_movie_id not in watched_movies_ids:\n",
    "                #и если пользователь его не смотрел, то добавляем в список рекомендаций \n",
    "                recommended_movies.append((rec_movie_id))\n",
    "    movie_titles = []\n",
    "    #по айдишнику находим названия\n",
    "    for movie_id in recommended_movies:\n",
    "        title = movies[movies['id'] == movie_id]['title'].iloc[0]\n",
    "        if title not in movie_titles:\n",
    "            #если такого фильма еще нет в рекомендациях, то дабавляем его\n",
    "            movie_titles.append(title)\n",
    "    return movie_titles"
   ]
  },
  {
   "cell_type": "code",
   "execution_count": 10,
   "metadata": {},
   "outputs": [
    {
     "name": "stdout",
     "output_type": "stream",
     "text": [
      "['Mona Lisa Smile', 'Arlington Road', \"You've Got Mail\", \"Alice Doesn't Live Here Anymore\", \"The Devil at 4 O'Clock\", 'Convict 13', 'Ladies and Gentlemen, the Fabulous Stains', 'The Taking of Pelham One Two Three', 'Land Without Bread', 'The Children Are Watching Us', 'The Best of Youth', 'Kamchatka', 'Betty Blue', 'Human Resources', 'All About Actresses', 'Samba', 'The Robe', 'The Great Ecstasy of Woodcarver Steiner', 'The Blood of a Poet', \"George Carlin: Jammin' in New York\", 'Johnny Suede', 'Drive Angry', 'The Woman in Black 2: Angel of Death', 'A Kind of Murder', '10 Years', 'Open Season 3', 'The One I Love', 'Mad Families', 'Afterschool', 'Apocalyptic', 'Legendary', 'Big Wednesday']\n"
     ]
    },
    {
     "name": "stderr",
     "output_type": "stream",
     "text": [
      "C:\\Users\\lizal\\AppData\\Local\\Temp\\ipykernel_4168\\460994496.py:14: DeprecationWarning: Call to deprecated `docvecs` (The `docvecs` property has been renamed `dv`.).\n",
      "  vector = model1.docvecs[movie_index]\n",
      "C:\\Users\\lizal\\AppData\\Local\\Temp\\ipykernel_4168\\460994496.py:15: DeprecationWarning: Call to deprecated `docvecs` (The `docvecs` property has been renamed `dv`.).\n",
      "  similar_movies = model1.docvecs.most_similar([vector], topn=5)\n"
     ]
    }
   ],
   "source": [
    "similar_movies = ContentFiltering(1)\n",
    "print(similar_movies)"
   ]
  },
  {
   "cell_type": "markdown",
   "metadata": {},
   "source": [
    "# Общая фильтрация"
   ]
  },
  {
   "cell_type": "code",
   "execution_count": 23,
   "metadata": {},
   "outputs": [
    {
     "name": "stdout",
     "output_type": "stream",
     "text": [
      "[['Unforgiven', 'Unbelievable Adventures of Italians in Russia', 'Stalag 17', 'Date and Switch', 'The Color of Pomegranates', 'Pathfinder', 'Babysitter Wanted', 'Drowning by Numbers', 'White of the Eye', 'Piggy'], ['Mona Lisa Smile', 'Arlington Road', \"You've Got Mail\", \"Alice Doesn't Live Here Anymore\", \"The Devil at 4 O'Clock\", 'Convict 13', 'Ladies and Gentlemen, the Fabulous Stains', 'The Taking of Pelham One Two Three', 'Land Without Bread', 'The Children Are Watching Us', 'The Best of Youth', 'Kamchatka', 'Betty Blue', 'Human Resources', 'All About Actresses', 'Samba', 'The Robe', 'The Great Ecstasy of Woodcarver Steiner', 'The Blood of a Poet', \"George Carlin: Jammin' in New York\", 'Johnny Suede', 'Drive Angry', 'The Woman in Black 2: Angel of Death', 'A Kind of Murder', '10 Years', 'Open Season 3', 'The One I Love', 'Mad Families', 'Afterschool', 'Apocalyptic', 'Legendary', 'Big Wednesday']]\n"
     ]
    },
    {
     "name": "stderr",
     "output_type": "stream",
     "text": [
      "C:\\Users\\lizal\\AppData\\Local\\Temp\\ipykernel_4168\\460994496.py:14: DeprecationWarning: Call to deprecated `docvecs` (The `docvecs` property has been renamed `dv`.).\n",
      "  vector = model1.docvecs[movie_index]\n",
      "C:\\Users\\lizal\\AppData\\Local\\Temp\\ipykernel_4168\\460994496.py:15: DeprecationWarning: Call to deprecated `docvecs` (The `docvecs` property has been renamed `dv`.).\n",
      "  similar_movies = model1.docvecs.most_similar([vector], topn=5)\n"
     ]
    }
   ],
   "source": [
    "user_id = int(input())\n",
    "def recommend_film(user_id):\n",
    "    film = []\n",
    "    C = CFUserBased(user_id)\n",
    "    film.append(C)\n",
    "    similar_movies = ContentFiltering(user_id)\n",
    "    film.append(similar_movies)\n",
    "    return film\n",
    "\n",
    "t = recommend_film(user_id)\n",
    "print(t)\n"
   ]
  },
  {
   "cell_type": "code",
   "execution_count": 26,
   "metadata": {},
   "outputs": [
    {
     "name": "stdout",
     "output_type": "stream",
     "text": [
      "[['Unforgiven', 'Unbelievable Adventures of Italians in Russia', 'Stalag 17', 'Date and Switch', 'The Color of Pomegranates', 'Pathfinder', 'Babysitter Wanted', 'Drowning by Numbers', 'White of the Eye', 'Piggy']]\n"
     ]
    }
   ],
   "source": [
    "film = []\n",
    "C = CFUserBased(user_id)\n",
    "film.append(C)\n",
    "print(film)\n"
   ]
  },
  {
   "cell_type": "code",
   "execution_count": 24,
   "metadata": {},
   "outputs": [
    {
     "name": "stderr",
     "output_type": "stream",
     "text": [
      "C:\\Users\\lizal\\AppData\\Local\\Temp\\ipykernel_4168\\460994496.py:14: DeprecationWarning: Call to deprecated `docvecs` (The `docvecs` property has been renamed `dv`.).\n",
      "  vector = model1.docvecs[movie_index]\n",
      "C:\\Users\\lizal\\AppData\\Local\\Temp\\ipykernel_4168\\460994496.py:15: DeprecationWarning: Call to deprecated `docvecs` (The `docvecs` property has been renamed `dv`.).\n",
      "  similar_movies = model1.docvecs.most_similar([vector], topn=5)\n"
     ]
    },
    {
     "data": {
      "text/plain": [
       "['Mona Lisa Smile',\n",
       " 'Arlington Road',\n",
       " \"You've Got Mail\",\n",
       " \"Alice Doesn't Live Here Anymore\",\n",
       " \"The Devil at 4 O'Clock\",\n",
       " 'Convict 13',\n",
       " 'Ladies and Gentlemen, the Fabulous Stains',\n",
       " 'The Taking of Pelham One Two Three',\n",
       " 'Land Without Bread',\n",
       " 'The Children Are Watching Us',\n",
       " 'The Best of Youth',\n",
       " 'Kamchatka',\n",
       " 'Betty Blue',\n",
       " 'Human Resources',\n",
       " 'All About Actresses',\n",
       " 'Samba',\n",
       " 'The Robe',\n",
       " 'The Great Ecstasy of Woodcarver Steiner',\n",
       " 'The Blood of a Poet',\n",
       " \"George Carlin: Jammin' in New York\",\n",
       " 'Johnny Suede',\n",
       " 'Drive Angry',\n",
       " 'The Woman in Black 2: Angel of Death',\n",
       " 'A Kind of Murder',\n",
       " '10 Years',\n",
       " 'Open Season 3',\n",
       " 'The One I Love',\n",
       " 'Mad Families',\n",
       " 'Afterschool',\n",
       " 'Apocalyptic',\n",
       " 'Legendary',\n",
       " 'Big Wednesday']"
      ]
     },
     "execution_count": 24,
     "metadata": {},
     "output_type": "execute_result"
    }
   ],
   "source": [
    "similar_movies = ContentFiltering(user_id)\n",
    "similar_movies"
   ]
  }
 ],
 "metadata": {
  "kernelspec": {
   "display_name": "Python 3",
   "language": "python",
   "name": "python3"
  },
  "language_info": {
   "codemirror_mode": {
    "name": "ipython",
    "version": 3
   },
   "file_extension": ".py",
   "mimetype": "text/x-python",
   "name": "python",
   "nbconvert_exporter": "python",
   "pygments_lexer": "ipython3",
   "version": "3.11.7"
  }
 },
 "nbformat": 4,
 "nbformat_minor": 2
}
